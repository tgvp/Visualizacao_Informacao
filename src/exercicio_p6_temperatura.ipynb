{
 "cells": [
  {
   "attachments": {},
   "cell_type": "markdown",
   "metadata": {},
   "source": [
    "# Temperatura\n",
    "Dada uma série de temperaturas mensais pretende-se determinar qual o trimestre em que ocorreu a temperatura mais elevada.\n",
    "\n",
    "- O primeiro valor da série corresponde ao mês de janeiro de 2018, o segundo valor da série ao mês de fevereiro de 2018 e assim sucessivamente.\n",
    "- Se existirem vários valores máximos deve ser apresentado o trimestre em que ocorreu pela primeira vez essa temperatura.\n",
    "- Calcule a série de temperaturas médias mensais e identifique o trimestre com a temperatura média mais elevada.\n",
    "\n",
    "Por exemplo, dada a seguinte série de temperaturas:\n",
    "\n",
    "14 16 19 24 26 22 20 18 15 14 12 12 13 17 22 26 25 24 24 18 18 15 14 12\n",
    "\n",
    "Apresente a visualização dos trimestres, identificando o trimestre máximo."
   ]
  },
  {
   "cell_type": "code",
   "execution_count": 1,
   "metadata": {},
   "outputs": [],
   "source": [
    "import pandas as pd\n",
    "import plotly.graph_objects as go"
   ]
  },
  {
   "cell_type": "code",
   "execution_count": 2,
   "metadata": {},
   "outputs": [
    {
     "data": {
      "text/plain": [
       "(['14',\n",
       "  '16',\n",
       "  '19',\n",
       "  '24',\n",
       "  '26',\n",
       "  '22',\n",
       "  '20',\n",
       "  '18',\n",
       "  '15',\n",
       "  '14',\n",
       "  '12',\n",
       "  '12',\n",
       "  '13',\n",
       "  '17',\n",
       "  '22',\n",
       "  '26',\n",
       "  '25',\n",
       "  '24',\n",
       "  '24',\n",
       "  '18',\n",
       "  '18',\n",
       "  '15',\n",
       "  '14',\n",
       "  '12'],\n",
       " 24)"
      ]
     },
     "execution_count": 2,
     "metadata": {},
     "output_type": "execute_result"
    }
   ],
   "source": [
    "nl_temperaturas = \"14 16 19 24 26 22 20 18 15 14 12 12 13 17 22 26 25 24 24 18 18 15 14 12\"\n",
    "\n",
    "temperaturas = nl_temperaturas.split(\" \")\n",
    "\n",
    "temperaturas, len(temperaturas)"
   ]
  },
  {
   "cell_type": "code",
   "execution_count": 3,
   "metadata": {},
   "outputs": [
    {
     "data": {
      "text/plain": [
       "[[14, '01-2018'],\n",
       " [16, '02-2018'],\n",
       " [19, '03-2018'],\n",
       " [24, '04-2018'],\n",
       " [26, '05-2018'],\n",
       " [22, '06-2018'],\n",
       " [20, '07-2018'],\n",
       " [18, '08-2018'],\n",
       " [15, '09-2018'],\n",
       " [14, '10-2018'],\n",
       " [12, '11-2018'],\n",
       " [12, '12-2018'],\n",
       " [13, '01-2019'],\n",
       " [17, '02-2019'],\n",
       " [22, '03-2019'],\n",
       " [26, '04-2019'],\n",
       " [25, '05-2019'],\n",
       " [24, '06-2019'],\n",
       " [24, '07-2019'],\n",
       " [18, '08-2019'],\n",
       " [18, '09-2019'],\n",
       " [15, '10-2019'],\n",
       " [14, '11-2019'],\n",
       " [12, '12-2019']]"
      ]
     },
     "execution_count": 3,
     "metadata": {},
     "output_type": "execute_result"
    }
   ],
   "source": [
    "# associando cada temperatura a um mês e ano. início em Janeiro de 2018\n",
    "from datetime import datetime\n",
    "for i in range(len(temperaturas)):\n",
    "    if i < 12:\n",
    "        temperaturas[i] = [int(temperaturas[i]), f\"{i+1:02d}-2018\"]\n",
    "    else:\n",
    "        temperaturas[i] = [int(temperaturas[i]), f\"{i-11:02d}-2019\"]\n",
    "    \n",
    "temperaturas"
   ]
  },
  {
   "cell_type": "code",
   "execution_count": 4,
   "metadata": {},
   "outputs": [
    {
     "data": {
      "text/plain": [
       "[[14, datetime.datetime(2018, 1, 1, 0, 0)],\n",
       " [16, datetime.datetime(2018, 2, 1, 0, 0)],\n",
       " [19, datetime.datetime(2018, 3, 1, 0, 0)],\n",
       " [24, datetime.datetime(2018, 4, 1, 0, 0)],\n",
       " [26, datetime.datetime(2018, 5, 1, 0, 0)],\n",
       " [22, datetime.datetime(2018, 6, 1, 0, 0)],\n",
       " [20, datetime.datetime(2018, 7, 1, 0, 0)],\n",
       " [18, datetime.datetime(2018, 8, 1, 0, 0)],\n",
       " [15, datetime.datetime(2018, 9, 1, 0, 0)],\n",
       " [14, datetime.datetime(2018, 10, 1, 0, 0)],\n",
       " [12, datetime.datetime(2018, 11, 1, 0, 0)],\n",
       " [12, datetime.datetime(2018, 12, 1, 0, 0)],\n",
       " [13, datetime.datetime(2019, 1, 1, 0, 0)],\n",
       " [17, datetime.datetime(2019, 2, 1, 0, 0)],\n",
       " [22, datetime.datetime(2019, 3, 1, 0, 0)],\n",
       " [26, datetime.datetime(2019, 4, 1, 0, 0)],\n",
       " [25, datetime.datetime(2019, 5, 1, 0, 0)],\n",
       " [24, datetime.datetime(2019, 6, 1, 0, 0)],\n",
       " [24, datetime.datetime(2019, 7, 1, 0, 0)],\n",
       " [18, datetime.datetime(2019, 8, 1, 0, 0)],\n",
       " [18, datetime.datetime(2019, 9, 1, 0, 0)],\n",
       " [15, datetime.datetime(2019, 10, 1, 0, 0)],\n",
       " [14, datetime.datetime(2019, 11, 1, 0, 0)],\n",
       " [12, datetime.datetime(2019, 12, 1, 0, 0)]]"
      ]
     },
     "execution_count": 4,
     "metadata": {},
     "output_type": "execute_result"
    }
   ],
   "source": [
    "# convertendo datas para datetime para obter abreviação dos meses como Janeiro 2018, Fevereiro 2018, etc\n",
    "for i in range(len(temperaturas)):\n",
    "    temperaturas[i][1] = datetime.strptime(temperaturas[i][1], \"%m-%Y\")\n",
    "    \n",
    "temperaturas"
   ]
  },
  {
   "cell_type": "code",
   "execution_count": 5,
   "metadata": {},
   "outputs": [
    {
     "data": {
      "text/plain": [
       "[(datetime.datetime(2018, 1, 1, 0, 0), 16.33),\n",
       " (datetime.datetime(2018, 4, 1, 0, 0), 24.0),\n",
       " (datetime.datetime(2018, 7, 1, 0, 0), 17.67),\n",
       " (datetime.datetime(2018, 10, 1, 0, 0), 12.67),\n",
       " (datetime.datetime(2019, 1, 1, 0, 0), 17.33),\n",
       " (datetime.datetime(2019, 4, 1, 0, 0), 25.0),\n",
       " (datetime.datetime(2019, 7, 1, 0, 0), 20.0),\n",
       " (datetime.datetime(2019, 10, 1, 0, 0), 13.67)]"
      ]
     },
     "execution_count": 5,
     "metadata": {},
     "output_type": "execute_result"
    }
   ],
   "source": [
    "# média trimestral das temperaturas\n",
    "media_trimestral = []\n",
    "for i in range(0, len(temperaturas), 3):\n",
    "    media_trimestral.append((temperaturas[i][1], round((temperaturas[i][0] + temperaturas[i+1][0] + temperaturas[i+2][0]) / 3, 2)))\n",
    "\n",
    "media_trimestral"
   ]
  },
  {
   "cell_type": "code",
   "execution_count": 41,
   "metadata": {},
   "outputs": [
    {
     "data": {
      "text/plain": [
       "25.0"
      ]
     },
     "execution_count": 41,
     "metadata": {},
     "output_type": "execute_result"
    }
   ],
   "source": [
    "# temperatura média mais elevada\n",
    "maior_media = max(media_trimestral, key=lambda x: x[1])[1]\n",
    "maior_media"
   ]
  },
  {
   "attachments": {},
   "cell_type": "markdown",
   "metadata": {},
   "source": [
    "Plotando a série de temperaturas mensais e identificar o trimestre com a temperatura máxima."
   ]
  },
  {
   "cell_type": "code",
   "execution_count": 23,
   "metadata": {},
   "outputs": [
    {
     "data": {
      "application/vnd.jupyter.widget-view+json": {
       "model_id": "743b119f25284e4abaccd23a37b21010",
       "version_major": 2,
       "version_minor": 0
      },
      "text/plain": [
       "FigureWidget({\n",
       "    'data': [{'name': 'blue',\n",
       "              'type': 'bar',\n",
       "              'uid': '915475d4-e52f-49b8-a323-b3b81913785a',\n",
       "              'x': [2018-01-01 00:00:00, 2018-04-01 00:00:00, 2018-07-01 00:00:00,\n",
       "                    2018-10-01 00:00:00, 2019-01-01 00:00:00, 2019-07-01 00:00:00,\n",
       "                    2019-10-01 00:00:00],\n",
       "              'y': [16.33, 24.0, 17.67, 12.67, 17.33, 20.0, 13.67]},\n",
       "             {'marker': {'color': 'red'},\n",
       "              'name': 'red',\n",
       "              'type': 'bar',\n",
       "              'uid': '7dce0348-ba97-4acb-bd3d-9d72809c462e',\n",
       "              'x': [2019-04-01 00:00:00],\n",
       "              'y': [25.0]}],\n",
       "    'layout': {'legend': {'title': {'text': 'color'}},\n",
       "               'template': '...',\n",
       "               'title': {'text': 'Temperatura Média Trimestral'},\n",
       "               'xaxis': {'title': {'text': 'Data'}},\n",
       "               'yaxis': {'title': {'text': 'Temperatura (ºC)'}}}\n",
       "})"
      ]
     },
     "execution_count": 23,
     "metadata": {},
     "output_type": "execute_result"
    }
   ],
   "source": [
    "# após ser removido a temperatura média mais elevada\n",
    "media_trimestral_mod = [x for x in media_trimestral if x[1] != maior_media]\n",
    "\n",
    "# plot gráfico de barras com a temperatura média trimestral usando plotly sem a temperatura média mais elevada\n",
    "plot_temperaturas = go.Figure(data=[go.Bar(x=[x[0] for x in media_trimestral_mod], y=[x[1] for x in media_trimestral_mod], name='blue')])\n",
    "\n",
    "# colorindo a temperatura média mais elevada em vermelho\n",
    "plot_temperaturas.add_trace(go.Bar(x=[max(media_trimestral, key=lambda x: x[1])[0]], y=[max(media_trimestral, key=lambda x: x[1])[1]], marker_color='red', name='red'))\n",
    "\n",
    "# adicionado título centralizado e nome dos eixos\n",
    "plot_temperaturas.update_layout(title=\"Temperatura Média Trimestral\", xaxis_title=\"Data\", yaxis_title=\"Temperatura (ºC)\", legend_title_text=\"color\")\n",
    "\n",
    "go.FigureWidget(plot_temperaturas)"
   ]
  },
  {
   "attachments": {},
   "cell_type": "markdown",
   "metadata": {},
   "source": [
    "Obtendo o mesmo gráfico anterior usando matplotlib"
   ]
  },
  {
   "cell_type": "code",
   "execution_count": 40,
   "metadata": {},
   "outputs": [
    {
     "data": {
      "image/png": "[encoded data removed]",
      "text/plain": [
       "<Figure size 2000x1000 with 1 Axes>"
      ]
     },
     "metadata": {},
     "output_type": "display_data"
    }
   ],
   "source": [
    "from matplotlib import pyplot as plt\n",
    "\n",
    "# definindo o tamanho da figura\n",
    "plt.figure(figsize=(20, 10))\n",
    "\n",
    "# plotando o gráfico de barras com a temperatura média trimestral usando matplotlib sem a temperatura média mais elevada\n",
    "plt.bar([x[0] for x in media_trimestral_mod], [x[1] for x in media_trimestral_mod], width=60, color='blue')\n",
    "\n",
    "# adicionando e colorindo a temperatura média mais elevada em vermelho\n",
    "plt.bar([max(media_trimestral, key=lambda x: x[1])[0]], [max(media_trimestral, key=lambda x: x[1])[1]], width=60, color='red')\n",
    "\n",
    "# definindo o tamanho da fonte do rótulo do eixo x e y para 20\n",
    "plt.xticks(fontsize=20) \n",
    "plt.yticks(fontsize=20)\n",
    "\n",
    "# adicionado título, nome dos eixos e legenda\n",
    "plt.title(\"Temperatura Média Trimestral\", fontsize=20)\n",
    "plt.xlabel(\"Data\", fontsize=20)\n",
    "plt.ylabel(\"Temperatura (ºC)\", fontsize=20)\n",
    "plt.legend(title=\"color\", labels=[\"blue\", \"red\"], fontsize=20)\n",
    "plt.tight_layout()\n",
    "plt.show()"
   ]
  }
 ],
 "metadata": {
  "kernelspec": {
   "display_name": "base",
   "language": "python",
   "name": "python3"
  },
  "language_info": {
   "codemirror_mode": {
    "name": "ipython",
    "version": 3
   },
   "file_extension": ".py",
   "mimetype": "text/x-python",
   "name": "python",
   "nbconvert_exporter": "python",
   "pygments_lexer": "ipython3",
   "version": "3.9.16"
  },
  "orig_nbformat": 4
 },
 "nbformat": 4,
 "nbformat_minor": 2
}
