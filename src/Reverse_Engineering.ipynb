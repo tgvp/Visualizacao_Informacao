{
 "cells": [
  {
   "attachments": {},
   "cell_type": "markdown",
   "metadata": {},
   "source": [
    "# Reverse Engineering\n",
    "Este notebook possui o intuito de **tratar os dados** de forma a serem utilizados com **qualidade** na **Análise Exploratória de Dados** e demais atividades relacionadas a este dataset.\n",
    "\n",
    "\n",
    "### Definição da Base de Dados Relacional:\n",
    "\n",
    "#### Database: `Produtividade`\n",
    "\n",
    "- Tabela: `Clientes` (**id_cliente**, nome, morada, distrito, valor_hora, horas_mensais_orcamentadas, satisfacao, <u>id_colaborador</u>)\n",
    "\n",
    "- Tabela: `Colaboradores` (**id_colaborador**, nome, salario_base, horas_semanais, idade, qualificacao, <u>id_equipa</u>)\n",
    "\n",
    "- Tabela: `Equipas` (**id_equipa**, nome)\n",
    "\n",
    "- Tabela: `Tarefas` (**id_tarefa**, nome, descricao)\n",
    "\n",
    "- Tabela: `Rel_Clientes_Colaboradores_Tarefas` (**<u>id_cliente</u>**, **<u>id_colaborador</u>**, **<u>id_tarefa</u>**, data, hora_inicio, hora_fim)"
   ]
  },
  {
   "attachments": {},
   "cell_type": "markdown",
   "metadata": {},
   "source": [
    "- Tabela: `Clientes` (**id_cliente**, nome, morada, distrito, valor_hora, horas_mensais_orcamentadas, satisfacao, <u>id_colaborador</u>)"
   ]
  },
  {
   "cell_type": "code",
   "execution_count": 1,
   "metadata": {},
   "outputs": [],
   "source": [
    "sql_create_queries = []"
   ]
  },
  {
   "cell_type": "code",
   "execution_count": 2,
   "metadata": {},
   "outputs": [
    {
     "name": "stdout",
     "output_type": "stream",
     "text": [
      " CREATE TABLE IF NOT EXISTS Clientes (\n",
      "        id_cliente INT PRIMARY KEY,\n",
      "        nome VARCHAR(255) NOT NULL,\n",
      "        morada VARCHAR(255),\n",
      "        distrito VARCHAR(255),\n",
      "        valor_hora INT NOT NULL,\n",
      "        horas_mensais_orcamentadas INT NOT NULL,\n",
      "        satisfacao INT NOT NULL,\n",
      "        id_colaborador INT NOT NULL,\n",
      "        FOREIGN KEY (id_colaborador) REFERENCES Colaboradores(id_colaborador)\n",
      "        ); \n"
     ]
    }
   ],
   "source": [
    "query = \"\"\" CREATE TABLE IF NOT EXISTS Clientes (\n",
    "        id_cliente INT PRIMARY KEY,\n",
    "        nome VARCHAR(255) NOT NULL,\n",
    "        morada VARCHAR(255),\n",
    "        distrito VARCHAR(255),\n",
    "        valor_hora INT NOT NULL,\n",
    "        horas_mensais_orcamentadas INT NOT NULL,\n",
    "        satisfacao INT NOT NULL,\n",
    "        id_colaborador INT NOT NULL,\n",
    "        FOREIGN KEY (id_colaborador) REFERENCES Colaboradores(id_colaborador)\n",
    "        ); \"\"\"\n",
    "\n",
    "sql_create_queries.append(query)\n",
    "print(query)"
   ]
  },
  {
   "attachments": {},
   "cell_type": "markdown",
   "metadata": {},
   "source": [
    "- Tabela: `Colaboradores` (**id_colaborador**, nome, salario_base, horas_semanais, idade, qualificacao, <u>id_equipa</u>)"
   ]
  },
  {
   "cell_type": "code",
   "execution_count": 3,
   "metadata": {},
   "outputs": [
    {
     "name": "stdout",
     "output_type": "stream",
     "text": [
      " CREATE TABLE IF NOT EXISTS Colaboradores (\n",
      "        id_colaborador INT NOT NULL PRIMARY KEY,\n",
      "        nome VARCHAR(255) NOT NULL,\n",
      "        salario_base DECIMAL NOT NULL,\n",
      "        horas_semanais INT NOT NULL,\n",
      "        idade INT NOT NULL,\n",
      "        qualificacao VARCHAR(255) NOT NULL,\n",
      "        id_equipa INT NOT NULL,\n",
      "        FOREIGN KEY (id_equipa) REFERENCES Equipas(id_equipa)\n",
      "        );\n"
     ]
    }
   ],
   "source": [
    "query = \"\"\" CREATE TABLE IF NOT EXISTS Colaboradores (\n",
    "        id_colaborador INT NOT NULL PRIMARY KEY,\n",
    "        nome VARCHAR(255) NOT NULL,\n",
    "        salario_base DECIMAL NOT NULL,\n",
    "        horas_semanais INT NOT NULL,\n",
    "        idade INT NOT NULL,\n",
    "        qualificacao VARCHAR(255) NOT NULL,\n",
    "        id_equipa INT NOT NULL,\n",
    "        FOREIGN KEY (id_equipa) REFERENCES Equipas(id_equipa)\n",
    "        );\"\"\"\n",
    "\n",
    "sql_create_queries.append(query)\n",
    "print(query)"
   ]
  },
  {
   "attachments": {},
   "cell_type": "markdown",
   "metadata": {},
   "source": [
    "- Tabela: `Equipas` (**id_equipa**, nome)"
   ]
  },
  {
   "cell_type": "code",
   "execution_count": 4,
   "metadata": {},
   "outputs": [
    {
     "name": "stdout",
     "output_type": "stream",
     "text": [
      "CREATE TABLE IF NOT EXISTS Equipas (\n",
      "        id_equipa INT NOT NULL PRIMARY KEY,\n",
      "        nome VARCHAR(255) NOT NULL\n",
      "        );\n"
     ]
    }
   ],
   "source": [
    "query = \"\"\"CREATE TABLE IF NOT EXISTS Equipas (\n",
    "        id_equipa INT NOT NULL PRIMARY KEY,\n",
    "        nome VARCHAR(255) NOT NULL\n",
    "        );\"\"\"\n",
    "\n",
    "sql_create_queries.append(query)\n",
    "print(query)"
   ]
  },
  {
   "attachments": {},
   "cell_type": "markdown",
   "metadata": {},
   "source": [
    "- Tabela: `Tarefas` (**id_tarefa**, nome, descricao)"
   ]
  },
  {
   "cell_type": "code",
   "execution_count": 5,
   "metadata": {},
   "outputs": [
    {
     "name": "stdout",
     "output_type": "stream",
     "text": [
      "CREATE TABLE IF NOT EXISTS Tarefas (\n",
      "        id_tarefa INT NOT NULL PRIMARY KEY,\n",
      "        nome VARCHAR(255) NOT NULL,\n",
      "        descricao VARCHAR(255)\n",
      "        );\n"
     ]
    }
   ],
   "source": [
    "query = \"\"\"CREATE TABLE IF NOT EXISTS Tarefas (\n",
    "        id_tarefa INT NOT NULL PRIMARY KEY,\n",
    "        nome VARCHAR(255) NOT NULL,\n",
    "        descricao VARCHAR(255)\n",
    "        );\"\"\"\n",
    "\n",
    "sql_create_queries.append(query)\n",
    "print(query)"
   ]
  },
  {
   "attachments": {},
   "cell_type": "markdown",
   "metadata": {},
   "source": [
    "- Tabela: `Rel_Clientes_Colaboradores_Tarefas` (**<u>id_cliente</u>**, **<u>id_colaborador</u>**, **<u>id_tarefa</u>**, data, hora_inicio, hora_fim)"
   ]
  },
  {
   "cell_type": "code",
   "execution_count": 6,
   "metadata": {},
   "outputs": [
    {
     "name": "stdout",
     "output_type": "stream",
     "text": [
      "CREATE TABLE IF NOT EXISTS Rel_Clientes_Colaboradores_Tarefas (\n",
      "        id_cliente INT NOT NULL PRIMARY KEY,\n",
      "        id_colaborador INT NOT NULL PRIMARY KEY,\n",
      "        id_tarefa INT NOT NULL PRIMARY KEY,\n",
      "        data DATE NOT NULL,\n",
      "        hora_inicio TIME NOT NULL,\n",
      "        hora_fim TIME NOT NULL\n",
      "        FOREIGN KEY (id_cliente) REFERENCES Clientes(id_cliente) ON DELETE CASCADE,\n",
      "        FOREIGN KEY (id_colaborador) REFERENCES Colaboradores(id_colaborador) ON DELETE CASCADE,\n",
      "        FOREIGN KEY (id_tarefa) REFERENCES Tarefas(id_tarefa) ON DELETE CASCADE\n",
      "        );\n"
     ]
    }
   ],
   "source": [
    "query = \"\"\"CREATE TABLE IF NOT EXISTS Rel_Clientes_Colaboradores_Tarefas (\n",
    "        id_cliente INT NOT NULL PRIMARY KEY,\n",
    "        id_colaborador INT NOT NULL PRIMARY KEY,\n",
    "        id_tarefa INT NOT NULL PRIMARY KEY,\n",
    "        data DATE NOT NULL,\n",
    "        hora_inicio TIME NOT NULL,\n",
    "        hora_fim TIME NOT NULL\n",
    "        FOREIGN KEY (id_cliente) REFERENCES Clientes(id_cliente) ON DELETE CASCADE,\n",
    "        FOREIGN KEY (id_colaborador) REFERENCES Colaboradores(id_colaborador) ON DELETE CASCADE,\n",
    "        FOREIGN KEY (id_tarefa) REFERENCES Tarefas(id_tarefa) ON DELETE CASCADE\n",
    "        );\"\"\"\n",
    "\n",
    "sql_create_queries.append(query)\n",
    "print(query)"
   ]
  },
  {
   "cell_type": "code",
   "execution_count": 7,
   "metadata": {},
   "outputs": [
    {
     "name": "stdout",
     "output_type": "stream",
     "text": [
      " CREATE TABLE IF NOT EXISTS Clientes (\n",
      "        id_cliente INT PRIMARY KEY,\n",
      "        nome VARCHAR(255) NOT NULL,\n",
      "        morada VARCHAR(255),\n",
      "        distrito VARCHAR(255),\n",
      "        valor_hora INT NOT NULL,\n",
      "        horas_mensais_orcamentadas INT NOT NULL,\n",
      "        satisfacao INT NOT NULL,\n",
      "        id_colaborador INT NOT NULL,\n",
      "        FOREIGN KEY (id_colaborador) REFERENCES Colaboradores(id_colaborador)\n",
      "        ); \n",
      " CREATE TABLE IF NOT EXISTS Colaboradores (\n",
      "        id_colaborador INT NOT NULL PRIMARY KEY,\n",
      "        nome VARCHAR(255) NOT NULL,\n",
      "        salario_base DECIMAL NOT NULL,\n",
      "        horas_semanais INT NOT NULL,\n",
      "        idade INT NOT NULL,\n",
      "        qualificacao VARCHAR(255) NOT NULL,\n",
      "        id_equipa INT NOT NULL,\n",
      "        FOREIGN KEY (id_equipa) REFERENCES Equipas(id_equipa)\n",
      "        );\n",
      "CREATE TABLE IF NOT EXISTS Equipas (\n",
      "        id_equipa INT NOT NULL PRIMARY KEY,\n",
      "        nome VARCHAR(255) NOT NULL\n",
      "        );\n",
      "CREATE TABLE IF NOT EXISTS Tarefas (\n",
      "        id_tarefa INT NOT NULL PRIMARY KEY,\n",
      "        nome VARCHAR(255) NOT NULL,\n",
      "        descricao VARCHAR(255)\n",
      "        );\n",
      "CREATE TABLE IF NOT EXISTS Rel_Clientes_Colaboradores_Tarefas (\n",
      "        id_cliente INT NOT NULL PRIMARY KEY,\n",
      "        id_colaborador INT NOT NULL PRIMARY KEY,\n",
      "        id_tarefa INT NOT NULL PRIMARY KEY,\n",
      "        data DATE NOT NULL,\n",
      "        hora_inicio TIME NOT NULL,\n",
      "        hora_fim TIME NOT NULL\n",
      "        FOREIGN KEY (id_cliente) REFERENCES Clientes(id_cliente) ON DELETE CASCADE,\n",
      "        FOREIGN KEY (id_colaborador) REFERENCES Colaboradores(id_colaborador) ON DELETE CASCADE,\n",
      "        FOREIGN KEY (id_tarefa) REFERENCES Tarefas(id_tarefa) ON DELETE CASCADE\n",
      "        );\n"
     ]
    }
   ],
   "source": [
    "for query in sql_create_queries:\n",
    "    print(query)"
   ]
  },
  {
   "cell_type": "code",
   "execution_count": null,
   "metadata": {},
   "outputs": [],
   "source": []
  }
 ],
 "metadata": {
  "kernelspec": {
   "display_name": "base",
   "language": "python",
   "name": "python3"
  },
  "language_info": {
   "codemirror_mode": {
    "name": "ipython",
    "version": 3
   },
   "file_extension": ".py",
   "mimetype": "text/x-python",
   "name": "python",
   "nbconvert_exporter": "python",
   "pygments_lexer": "ipython3",
   "version": "3.10.9"
  },
  "orig_nbformat": 4
 },
 "nbformat": 4,
 "nbformat_minor": 2
}
