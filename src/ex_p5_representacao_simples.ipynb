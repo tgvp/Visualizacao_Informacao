{
 "cells": [
  {
   "attachments": {},
   "cell_type": "markdown",
   "metadata": {},
   "source": [
    "## Análise de receitas\n",
    "Considere o dataset product_sales_report.csv, que apresenta o relatório das vendas de produtos, disponível em https://www.data.qld.gov.au/dataset/product-sales-report\n",
    "\n",
    "Os registos foram obtidos a partir dos dados mensais das vendas em 2012-2013, agrupando as vendas pelo mês e produtos. Vamos comparar as vendas mês a mês, criando uma visualização que ajude a identificar as alterações.\n",
    "\n",
    "Uma amostra do dataset product_sales_report.csv é apresentada em seguida:"
   ]
  },
  {
   "cell_type": "code",
   "execution_count": 698,
   "metadata": {},
   "outputs": [
    {
     "data": {
      "text/html": [
       "<div>\n",
       "<style scoped>\n",
       "    .dataframe tbody tr th:only-of-type {\n",
       "        vertical-align: middle;\n",
       "    }\n",
       "\n",
       "    .dataframe tbody tr th {\n",
       "        vertical-align: top;\n",
       "    }\n",
       "\n",
       "    .dataframe thead th {\n",
       "        text-align: right;\n",
       "    }\n",
       "</style>\n",
       "<table border=\"1\" class=\"dataframe\">\n",
       "  <thead>\n",
       "    <tr style=\"text-align: right;\">\n",
       "      <th></th>\n",
       "      <th>Year/Month</th>\n",
       "      <th>Cigarettes - Packets</th>\n",
       "      <th>Grocery Soft Drinks Sugar Free</th>\n",
       "      <th>Fuel</th>\n",
       "      <th>Confectionery</th>\n",
       "      <th>Vegetables - Fresh</th>\n",
       "      <th>Fruit - Fresh</th>\n",
       "      <th>Snack Foods</th>\n",
       "      <th>Frozen Poultry</th>\n",
       "      <th>Rice, Pasta &amp; Noodles</th>\n",
       "      <th>...</th>\n",
       "      <th>Juices - Non Refrigerated</th>\n",
       "      <th>Eggs</th>\n",
       "      <th>Cheese</th>\n",
       "      <th>Breakfast Foods</th>\n",
       "      <th>Beverages - Coffee/Tea/Milo</th>\n",
       "      <th>Flour</th>\n",
       "      <th>Frozen meals,pizza,pies</th>\n",
       "      <th>Slow Goods Warehouse</th>\n",
       "      <th>Ice Cream sticks- single serve</th>\n",
       "      <th>Toilet Paper</th>\n",
       "    </tr>\n",
       "  </thead>\n",
       "  <tbody>\n",
       "    <tr>\n",
       "      <th>0</th>\n",
       "      <td>2013-10</td>\n",
       "      <td>302520</td>\n",
       "      <td>217987</td>\n",
       "      <td>160195</td>\n",
       "      <td>102615</td>\n",
       "      <td>94189</td>\n",
       "      <td>107256</td>\n",
       "      <td>93654</td>\n",
       "      <td>84791</td>\n",
       "      <td>75180</td>\n",
       "      <td>...</td>\n",
       "      <td>43265</td>\n",
       "      <td>40038</td>\n",
       "      <td>36454</td>\n",
       "      <td>37178</td>\n",
       "      <td>33814</td>\n",
       "      <td>34879</td>\n",
       "      <td>36523</td>\n",
       "      <td>33924</td>\n",
       "      <td>33153</td>\n",
       "      <td>28670</td>\n",
       "    </tr>\n",
       "    <tr>\n",
       "      <th>1</th>\n",
       "      <td>2013-09</td>\n",
       "      <td>318920</td>\n",
       "      <td>222281</td>\n",
       "      <td>167767</td>\n",
       "      <td>121949</td>\n",
       "      <td>95059</td>\n",
       "      <td>102224</td>\n",
       "      <td>99034</td>\n",
       "      <td>84533</td>\n",
       "      <td>69258</td>\n",
       "      <td>...</td>\n",
       "      <td>41754</td>\n",
       "      <td>38451</td>\n",
       "      <td>38080</td>\n",
       "      <td>33878</td>\n",
       "      <td>34113</td>\n",
       "      <td>36247</td>\n",
       "      <td>36611</td>\n",
       "      <td>36161</td>\n",
       "      <td>35208</td>\n",
       "      <td>29194</td>\n",
       "    </tr>\n",
       "    <tr>\n",
       "      <th>2</th>\n",
       "      <td>2013-08</td>\n",
       "      <td>340023</td>\n",
       "      <td>232801</td>\n",
       "      <td>147264</td>\n",
       "      <td>133976</td>\n",
       "      <td>119002</td>\n",
       "      <td>113335</td>\n",
       "      <td>109712</td>\n",
       "      <td>94126</td>\n",
       "      <td>81209</td>\n",
       "      <td>...</td>\n",
       "      <td>46202</td>\n",
       "      <td>44473</td>\n",
       "      <td>44811</td>\n",
       "      <td>40480</td>\n",
       "      <td>39939</td>\n",
       "      <td>34530</td>\n",
       "      <td>37800</td>\n",
       "      <td>41169</td>\n",
       "      <td>37903</td>\n",
       "      <td>32534</td>\n",
       "    </tr>\n",
       "    <tr>\n",
       "      <th>3</th>\n",
       "      <td>2013-07</td>\n",
       "      <td>321810</td>\n",
       "      <td>229747</td>\n",
       "      <td>146792</td>\n",
       "      <td>142475</td>\n",
       "      <td>117459</td>\n",
       "      <td>124317</td>\n",
       "      <td>113254</td>\n",
       "      <td>98173</td>\n",
       "      <td>79104</td>\n",
       "      <td>...</td>\n",
       "      <td>44995</td>\n",
       "      <td>45723</td>\n",
       "      <td>44946</td>\n",
       "      <td>42583</td>\n",
       "      <td>40371</td>\n",
       "      <td>34961</td>\n",
       "      <td>39809</td>\n",
       "      <td>42075</td>\n",
       "      <td>38915</td>\n",
       "      <td>31909</td>\n",
       "    </tr>\n",
       "    <tr>\n",
       "      <th>4</th>\n",
       "      <td>2013-06</td>\n",
       "      <td>292765</td>\n",
       "      <td>202463</td>\n",
       "      <td>141535</td>\n",
       "      <td>117123</td>\n",
       "      <td>125406</td>\n",
       "      <td>117393</td>\n",
       "      <td>92277</td>\n",
       "      <td>91530</td>\n",
       "      <td>75924</td>\n",
       "      <td>...</td>\n",
       "      <td>36869</td>\n",
       "      <td>42408</td>\n",
       "      <td>38728</td>\n",
       "      <td>35983</td>\n",
       "      <td>38682</td>\n",
       "      <td>32658</td>\n",
       "      <td>35812</td>\n",
       "      <td>33200</td>\n",
       "      <td>31910</td>\n",
       "      <td>31334</td>\n",
       "    </tr>\n",
       "  </tbody>\n",
       "</table>\n",
       "<p>5 rows × 31 columns</p>\n",
       "</div>"
      ],
      "text/plain": [
       "  Year/Month  Cigarettes - Packets   Grocery Soft Drinks Sugar Free    Fuel  \\\n",
       "0    2013-10                 302520                          217987  160195   \n",
       "1    2013-09                 318920                          222281  167767   \n",
       "2    2013-08                 340023                          232801  147264   \n",
       "3    2013-07                 321810                          229747  146792   \n",
       "4    2013-06                 292765                          202463  141535   \n",
       "\n",
       "   Confectionery  Vegetables - Fresh  Fruit - Fresh  Snack Foods  \\\n",
       "0         102615               94189         107256        93654   \n",
       "1         121949               95059         102224        99034   \n",
       "2         133976              119002         113335       109712   \n",
       "3         142475              117459         124317       113254   \n",
       "4         117123              125406         117393        92277   \n",
       "\n",
       "   Frozen Poultry  Rice, Pasta & Noodles  ...  Juices - Non Refrigerated  \\\n",
       "0           84791                  75180  ...                      43265   \n",
       "1           84533                  69258  ...                      41754   \n",
       "2           94126                  81209  ...                      46202   \n",
       "3           98173                  79104  ...                      44995   \n",
       "4           91530                  75924  ...                      36869   \n",
       "\n",
       "    Eggs  Cheese  Breakfast Foods  Beverages - Coffee/Tea/Milo  Flour  \\\n",
       "0  40038   36454            37178                        33814  34879   \n",
       "1  38451   38080            33878                        34113  36247   \n",
       "2  44473   44811            40480                        39939  34530   \n",
       "3  45723   44946            42583                        40371  34961   \n",
       "4  42408   38728            35983                        38682  32658   \n",
       "\n",
       "   Frozen meals,pizza,pies  Slow Goods Warehouse  \\\n",
       "0                    36523                 33924   \n",
       "1                    36611                 36161   \n",
       "2                    37800                 41169   \n",
       "3                    39809                 42075   \n",
       "4                    35812                 33200   \n",
       "\n",
       "   Ice Cream sticks- single serve  Toilet Paper  \n",
       "0                           33153         28670  \n",
       "1                           35208         29194  \n",
       "2                           37903         32534  \n",
       "3                           38915         31909  \n",
       "4                           31910         31334  \n",
       "\n",
       "[5 rows x 31 columns]"
      ]
     },
     "execution_count": 698,
     "metadata": {},
     "output_type": "execute_result"
    }
   ],
   "source": [
    "import pandas as pd\n",
    "df = pd.read_csv('../data/ibis-product-group-sales-report.csv')\n",
    "df.head()"
   ]
  },
  {
   "cell_type": "code",
   "execution_count": 699,
   "metadata": {},
   "outputs": [
    {
     "name": "stdout",
     "output_type": "stream",
     "text": [
      "<class 'pandas.core.frame.DataFrame'>\n",
      "RangeIndex: 12 entries, 0 to 11\n",
      "Data columns (total 31 columns):\n",
      " #   Column                          Non-Null Count  Dtype \n",
      "---  ------                          --------------  ----- \n",
      " 0   Year/Month                      12 non-null     object\n",
      " 1   Cigarettes - Packets            12 non-null     int64 \n",
      " 2   Grocery Soft Drinks Sugar Free  12 non-null     int64 \n",
      " 3   Fuel                            12 non-null     int64 \n",
      " 4   Confectionery                   12 non-null     int64 \n",
      " 5   Vegetables - Fresh              12 non-null     int64 \n",
      " 6   Fruit - Fresh                   12 non-null     int64 \n",
      " 7   Snack Foods                     12 non-null     int64 \n",
      " 8   Frozen Poultry                  12 non-null     int64 \n",
      " 9   Rice, Pasta & Noodles           12 non-null     int64 \n",
      " 10  Smallgoods                      12 non-null     int64 \n",
      " 11  Biscuits                        12 non-null     int64 \n",
      " 12  Baby Needs/baby food/nappies    12 non-null     int64 \n",
      " 13  XPOS PrePaid Phone Credit       12 non-null     int64 \n",
      " 14  Frozen Bread                    12 non-null     int64 \n",
      " 15  Milk Uht/Soy Milk/Powdered      12 non-null     int64 \n",
      " 16  Meats - Canned                  12 non-null     int64 \n",
      " 17  Beef                            12 non-null     int64 \n",
      " 18  Noodles                         12 non-null     int64 \n",
      " 19  Milk Products/Soy Milk/ -Chill  12 non-null     int64 \n",
      " 20  Powercard                       12 non-null     int64 \n",
      " 21  Juices - Non Refrigerated       12 non-null     int64 \n",
      " 22  Eggs                            12 non-null     int64 \n",
      " 23  Cheese                          12 non-null     int64 \n",
      " 24  Breakfast Foods                 12 non-null     int64 \n",
      " 25  Beverages - Coffee/Tea/Milo     12 non-null     int64 \n",
      " 26  Flour                           12 non-null     int64 \n",
      " 27  Frozen meals,pizza,pies         12 non-null     int64 \n",
      " 28  Slow Goods Warehouse            12 non-null     int64 \n",
      " 29  Ice Cream sticks- single serve  12 non-null     int64 \n",
      " 30  Toilet Paper                    12 non-null     int64 \n",
      "dtypes: int64(30), object(1)\n",
      "memory usage: 3.0+ KB\n"
     ]
    }
   ],
   "source": [
    "df.info()"
   ]
  },
  {
   "cell_type": "code",
   "execution_count": 700,
   "metadata": {},
   "outputs": [
    {
     "name": "stdout",
     "output_type": "stream",
     "text": [
      "<class 'pandas.core.frame.DataFrame'>\n",
      "RangeIndex: 12 entries, 0 to 11\n",
      "Data columns (total 31 columns):\n",
      " #   Column                          Non-Null Count  Dtype         \n",
      "---  ------                          --------------  -----         \n",
      " 0   Year/Month                      12 non-null     datetime64[ns]\n",
      " 1   Cigarettes - Packets            12 non-null     int64         \n",
      " 2   Grocery Soft Drinks Sugar Free  12 non-null     int64         \n",
      " 3   Fuel                            12 non-null     int64         \n",
      " 4   Confectionery                   12 non-null     int64         \n",
      " 5   Vegetables - Fresh              12 non-null     int64         \n",
      " 6   Fruit - Fresh                   12 non-null     int64         \n",
      " 7   Snack Foods                     12 non-null     int64         \n",
      " 8   Frozen Poultry                  12 non-null     int64         \n",
      " 9   Rice, Pasta & Noodles           12 non-null     int64         \n",
      " 10  Smallgoods                      12 non-null     int64         \n",
      " 11  Biscuits                        12 non-null     int64         \n",
      " 12  Baby Needs/baby food/nappies    12 non-null     int64         \n",
      " 13  XPOS PrePaid Phone Credit       12 non-null     int64         \n",
      " 14  Frozen Bread                    12 non-null     int64         \n",
      " 15  Milk Uht/Soy Milk/Powdered      12 non-null     int64         \n",
      " 16  Meats - Canned                  12 non-null     int64         \n",
      " 17  Beef                            12 non-null     int64         \n",
      " 18  Noodles                         12 non-null     int64         \n",
      " 19  Milk Products/Soy Milk/ -Chill  12 non-null     int64         \n",
      " 20  Powercard                       12 non-null     int64         \n",
      " 21  Juices - Non Refrigerated       12 non-null     int64         \n",
      " 22  Eggs                            12 non-null     int64         \n",
      " 23  Cheese                          12 non-null     int64         \n",
      " 24  Breakfast Foods                 12 non-null     int64         \n",
      " 25  Beverages - Coffee/Tea/Milo     12 non-null     int64         \n",
      " 26  Flour                           12 non-null     int64         \n",
      " 27  Frozen meals,pizza,pies         12 non-null     int64         \n",
      " 28  Slow Goods Warehouse            12 non-null     int64         \n",
      " 29  Ice Cream sticks- single serve  12 non-null     int64         \n",
      " 30  Toilet Paper                    12 non-null     int64         \n",
      "dtypes: datetime64[ns](1), int64(30)\n",
      "memory usage: 3.0 KB\n"
     ]
    }
   ],
   "source": [
    "# convertido para datetime\n",
    "df['Year/Month'] = pd.to_datetime(df['Year/Month'])\n",
    "df.info()"
   ]
  },
  {
   "attachments": {},
   "cell_type": "markdown",
   "metadata": {},
   "source": [
    "Note que:\n",
    "\n",
    "- Cada linha contêm o resultado das vendas dos mês.\n",
    "- A comparação entre dois dois meses consiste em fazer a diferença nas receitas pelos tipos de produto.\n",
    "- As barras extremas contêm o valor acumulado do mês.\n",
    "- Pode generalizar a análise para comparar quaisquer dois meses e para um qualquer número de colunas (para simplificar, consideremos da 1.ª até à coluna n).\n",
    "- Realize as visualizações utilizando a visualização waterfall.\n",
    "\n",
    "Como resultado do exercício, deve obter as seguintes visualizações:"
   ]
  },
  {
   "attachments": {},
   "cell_type": "markdown",
   "metadata": {},
   "source": [
    "#### Análise das vendas de 2013-02 e 2013-03, para os primeiros 5 produtos:"
   ]
  },
  {
   "cell_type": "code",
   "execution_count": 701,
   "metadata": {},
   "outputs": [
    {
     "data": {
      "text/html": [
       "<div>\n",
       "<style scoped>\n",
       "    .dataframe tbody tr th:only-of-type {\n",
       "        vertical-align: middle;\n",
       "    }\n",
       "\n",
       "    .dataframe tbody tr th {\n",
       "        vertical-align: top;\n",
       "    }\n",
       "\n",
       "    .dataframe thead th {\n",
       "        text-align: right;\n",
       "    }\n",
       "</style>\n",
       "<table border=\"1\" class=\"dataframe\">\n",
       "  <thead>\n",
       "    <tr style=\"text-align: right;\">\n",
       "      <th></th>\n",
       "      <th>Cigarettes - Packets</th>\n",
       "      <th>Grocery Soft Drinks Sugar Free</th>\n",
       "      <th>Fuel</th>\n",
       "      <th>Confectionery</th>\n",
       "      <th>Vegetables - Fresh</th>\n",
       "      <th>Fruit - Fresh</th>\n",
       "      <th>Snack Foods</th>\n",
       "      <th>Frozen Poultry</th>\n",
       "      <th>Rice, Pasta &amp; Noodles</th>\n",
       "      <th>Smallgoods</th>\n",
       "      <th>...</th>\n",
       "      <th>Juices - Non Refrigerated</th>\n",
       "      <th>Eggs</th>\n",
       "      <th>Cheese</th>\n",
       "      <th>Breakfast Foods</th>\n",
       "      <th>Beverages - Coffee/Tea/Milo</th>\n",
       "      <th>Flour</th>\n",
       "      <th>Frozen meals,pizza,pies</th>\n",
       "      <th>Slow Goods Warehouse</th>\n",
       "      <th>Ice Cream sticks- single serve</th>\n",
       "      <th>Toilet Paper</th>\n",
       "    </tr>\n",
       "    <tr>\n",
       "      <th>Year/Month</th>\n",
       "      <th></th>\n",
       "      <th></th>\n",
       "      <th></th>\n",
       "      <th></th>\n",
       "      <th></th>\n",
       "      <th></th>\n",
       "      <th></th>\n",
       "      <th></th>\n",
       "      <th></th>\n",
       "      <th></th>\n",
       "      <th></th>\n",
       "      <th></th>\n",
       "      <th></th>\n",
       "      <th></th>\n",
       "      <th></th>\n",
       "      <th></th>\n",
       "      <th></th>\n",
       "      <th></th>\n",
       "      <th></th>\n",
       "      <th></th>\n",
       "      <th></th>\n",
       "    </tr>\n",
       "  </thead>\n",
       "  <tbody>\n",
       "    <tr>\n",
       "      <th>2013-02-01</th>\n",
       "      <td>256482</td>\n",
       "      <td>198961</td>\n",
       "      <td>185252</td>\n",
       "      <td>91071</td>\n",
       "      <td>91789</td>\n",
       "      <td>87549</td>\n",
       "      <td>80773</td>\n",
       "      <td>77338</td>\n",
       "      <td>67169</td>\n",
       "      <td>63219</td>\n",
       "      <td>...</td>\n",
       "      <td>40451</td>\n",
       "      <td>34097</td>\n",
       "      <td>32579</td>\n",
       "      <td>31836</td>\n",
       "      <td>29035</td>\n",
       "      <td>29750</td>\n",
       "      <td>27573</td>\n",
       "      <td>28293</td>\n",
       "      <td>24367</td>\n",
       "      <td>25751</td>\n",
       "    </tr>\n",
       "    <tr>\n",
       "      <th>2013-03-01</th>\n",
       "      <td>278981</td>\n",
       "      <td>195965</td>\n",
       "      <td>139745</td>\n",
       "      <td>91349</td>\n",
       "      <td>110917</td>\n",
       "      <td>93183</td>\n",
       "      <td>86782</td>\n",
       "      <td>91094</td>\n",
       "      <td>78899</td>\n",
       "      <td>65639</td>\n",
       "      <td>...</td>\n",
       "      <td>37824</td>\n",
       "      <td>39094</td>\n",
       "      <td>34756</td>\n",
       "      <td>35224</td>\n",
       "      <td>35163</td>\n",
       "      <td>34912</td>\n",
       "      <td>32355</td>\n",
       "      <td>32266</td>\n",
       "      <td>23372</td>\n",
       "      <td>30697</td>\n",
       "    </tr>\n",
       "  </tbody>\n",
       "</table>\n",
       "<p>2 rows × 30 columns</p>\n",
       "</div>"
      ],
      "text/plain": [
       "            Cigarettes - Packets   Grocery Soft Drinks Sugar Free    Fuel  \\\n",
       "Year/Month                                                                  \n",
       "2013-02-01                 256482                          198961  185252   \n",
       "2013-03-01                 278981                          195965  139745   \n",
       "\n",
       "            Confectionery  Vegetables - Fresh  Fruit - Fresh  Snack Foods  \\\n",
       "Year/Month                                                                  \n",
       "2013-02-01          91071               91789          87549        80773   \n",
       "2013-03-01          91349              110917          93183        86782   \n",
       "\n",
       "            Frozen Poultry  Rice, Pasta & Noodles  Smallgoods  ...  \\\n",
       "Year/Month                                                     ...   \n",
       "2013-02-01           77338                  67169       63219  ...   \n",
       "2013-03-01           91094                  78899       65639  ...   \n",
       "\n",
       "            Juices - Non Refrigerated   Eggs  Cheese  Breakfast Foods  \\\n",
       "Year/Month                                                              \n",
       "2013-02-01                      40451  34097   32579            31836   \n",
       "2013-03-01                      37824  39094   34756            35224   \n",
       "\n",
       "            Beverages - Coffee/Tea/Milo  Flour  Frozen meals,pizza,pies  \\\n",
       "Year/Month                                                                \n",
       "2013-02-01                        29035  29750                    27573   \n",
       "2013-03-01                        35163  34912                    32355   \n",
       "\n",
       "            Slow Goods Warehouse  Ice Cream sticks- single serve  Toilet Paper  \n",
       "Year/Month                                                                      \n",
       "2013-02-01                 28293                           24367         25751  \n",
       "2013-03-01                 32266                           23372         30697  \n",
       "\n",
       "[2 rows x 30 columns]"
      ]
     },
     "execution_count": 701,
     "metadata": {},
     "output_type": "execute_result"
    }
   ],
   "source": [
    "# groupby year/month 2013-02 and 2013-03\n",
    "df.groupby('Year/Month').sum().loc['2013-02':'2013-03']"
   ]
  },
  {
   "cell_type": "code",
   "execution_count": 702,
   "metadata": {},
   "outputs": [
    {
     "data": {
      "text/plain": [
       "Index(['Year/Month', 'Cigarettes - Packets ', 'Grocery Soft Drinks Sugar Free',\n",
       "       'Fuel', 'Confectionery'],\n",
       "      dtype='object')"
      ]
     },
     "execution_count": 702,
     "metadata": {},
     "output_type": "execute_result"
    }
   ],
   "source": [
    "df.columns[:5]"
   ]
  },
  {
   "cell_type": "code",
   "execution_count": 703,
   "metadata": {},
   "outputs": [
    {
     "data": {
      "text/plain": [
       "<Axes: xlabel='Year/Month'>"
      ]
     },
     "execution_count": 703,
     "metadata": {},
     "output_type": "execute_result"
    },
    {
     "data": {
      "image/png": "[encoded data removed]",
      "text/plain": [
       "<Figure size 1000x500 with 1 Axes>"
      ]
     },
     "metadata": {},
     "output_type": "display_data"
    }
   ],
   "source": [
    "# plot first 5 columns\n",
    "df.groupby('Year/Month').sum().loc['2013-02':'2013-03'][df.columns[1:5]].plot(kind='bar', figsize=(10, 5))"
   ]
  },
  {
   "cell_type": "code",
   "execution_count": 704,
   "metadata": {},
   "outputs": [
    {
     "data": {
      "text/plain": [
       "Cigarettes - Packets              22499\n",
       "Grocery Soft Drinks Sugar Free    -2996\n",
       "Fuel                             -45507\n",
       "Confectionery                       278\n",
       "Vegetables - Fresh                19128\n",
       "dtype: int64"
      ]
     },
     "execution_count": 704,
     "metadata": {},
     "output_type": "execute_result"
    }
   ],
   "source": [
    "df_2013_02 = df.groupby('Year/Month').sum().loc['2013-02'][df.columns[1:6]]\n",
    "df_2013_03 = df.groupby('Year/Month').sum().loc['2013-03'][df.columns[1:6]]\n",
    "df_diff = df_2013_03.sum() - df_2013_02.sum()\n",
    "df_diff"
   ]
  },
  {
   "cell_type": "code",
   "execution_count": 705,
   "metadata": {},
   "outputs": [
    {
     "data": {
      "text/plain": [
       "array([ 22499,  -2996, -45507,    278,  19128], dtype=int64)"
      ]
     },
     "execution_count": 705,
     "metadata": {},
     "output_type": "execute_result"
    }
   ],
   "source": [
    "df_diff.values"
   ]
  },
  {
   "cell_type": "code",
   "execution_count": 706,
   "metadata": {},
   "outputs": [
    {
     "data": {
      "text/plain": [
       "(823555, 816957)"
      ]
     },
     "execution_count": 706,
     "metadata": {},
     "output_type": "execute_result"
    }
   ],
   "source": [
    "df_total_2013_02 = df.groupby('Year/Month').sum().loc['2013-02'][df.columns[1:6]].sum().sum()\n",
    "df_total_2013_03 = df.groupby('Year/Month').sum().loc['2013-03'][df.columns[1:6]].sum().sum()\n",
    "\n",
    "df_total_2013_02, df_total_2013_03"
   ]
  },
  {
   "cell_type": "code",
   "execution_count": 707,
   "metadata": {},
   "outputs": [
    {
     "data": {
      "text/plain": [
       "['2013-02',\n",
       " 'Cigarettes - Packets ',\n",
       " 'Grocery Soft Drinks Sugar Free',\n",
       " 'Fuel',\n",
       " 'Confectionery',\n",
       " 'Vegetables - Fresh',\n",
       " '2013-03']"
      ]
     },
     "execution_count": 707,
     "metadata": {},
     "output_type": "execute_result"
    }
   ],
   "source": [
    "indexes = ['2013-02'] + df.columns[1:6].to_list() +['2013-03']\n",
    "indexes"
   ]
  },
  {
   "cell_type": "code",
   "execution_count": 708,
   "metadata": {},
   "outputs": [
    {
     "data": {
      "image/png": "[encoded data removed]",
      "text/plain": [
       "<Figure size 1000x500 with 1 Axes>"
      ]
     },
     "metadata": {},
     "output_type": "display_data"
    }
   ],
   "source": [
    "import matplotlib.pyplot as plt\n",
    "\n",
    "df_totals_diff =pd.concat([pd.Series(df_total_2013_02), pd.Series(df_diff.values), pd.Series(df_total_2013_03)])\n",
    "\n",
    "# redefinindo indexes para a refletir a concatenação\n",
    "df_totals_diff.index = indexes\n",
    "\n",
    "# colorindo de vermelho os valores negativos e verde os positivos com a primeira e ultima barra azul\n",
    "colors=['red' if x < 0 else 'green' for x in df_totals_diff.values]\n",
    "colors[0] = 'blue'\n",
    "colors[-1] = 'blue'\n",
    "\n",
    "\n",
    "plt.figure(figsize=(10, 5))\n",
    "plt.bar(df_totals_diff.index, df_totals_diff.values, color=colors, width=0.5)\n",
    "\n",
    "# rótulos de x inclinados sentido contrario\n",
    "plt.xticks(rotation=-45)\n",
    "\n",
    "# bakcground cinza\n",
    "plt.gca().set_facecolor('lightgray')\n",
    "\n",
    "# linhas do grid horizontais brancas em background\n",
    "plt.grid(axis='y', color='white')\n",
    "\n",
    "# barras em cima do grid\n",
    "plt.gca().set_axisbelow(True)\n",
    "\n",
    "# título\n",
    "plt.title('Diferença de Receita entre 2013-02 e 2013-03')\n",
    "\n",
    "# y em 100k, 200k, 300k, ...\n",
    "plt.yticks([100000, 200000, 300000, 400000, 500000, 600000, 700000, 800000], ['100k', '200k', '300k', '400k', '500k', '600k', '700k', '800k'])\n",
    "\n",
    "plt.show()\n"
   ]
  },
  {
   "cell_type": "code",
   "execution_count": 709,
   "metadata": {},
   "outputs": [
    {
     "data": {
      "text/html": [
       "<div>\n",
       "<style scoped>\n",
       "    .dataframe tbody tr th:only-of-type {\n",
       "        vertical-align: middle;\n",
       "    }\n",
       "\n",
       "    .dataframe tbody tr th {\n",
       "        vertical-align: top;\n",
       "    }\n",
       "\n",
       "    .dataframe thead th {\n",
       "        text-align: right;\n",
       "    }\n",
       "</style>\n",
       "<table border=\"1\" class=\"dataframe\">\n",
       "  <thead>\n",
       "    <tr style=\"text-align: right;\">\n",
       "      <th></th>\n",
       "      <th>Total</th>\n",
       "    </tr>\n",
       "  </thead>\n",
       "  <tbody>\n",
       "    <tr>\n",
       "      <th>2013-02</th>\n",
       "      <td>823555</td>\n",
       "    </tr>\n",
       "    <tr>\n",
       "      <th>Cigarettes - Packets</th>\n",
       "      <td>22499</td>\n",
       "    </tr>\n",
       "    <tr>\n",
       "      <th>Grocery Soft Drinks Sugar Free</th>\n",
       "      <td>-2996</td>\n",
       "    </tr>\n",
       "    <tr>\n",
       "      <th>Fuel</th>\n",
       "      <td>-45507</td>\n",
       "    </tr>\n",
       "    <tr>\n",
       "      <th>Confectionery</th>\n",
       "      <td>278</td>\n",
       "    </tr>\n",
       "    <tr>\n",
       "      <th>Vegetables - Fresh</th>\n",
       "      <td>19128</td>\n",
       "    </tr>\n",
       "    <tr>\n",
       "      <th>2013-03</th>\n",
       "      <td>816957</td>\n",
       "    </tr>\n",
       "  </tbody>\n",
       "</table>\n",
       "</div>"
      ],
      "text/plain": [
       "                                 Total\n",
       "2013-02                         823555\n",
       "Cigarettes - Packets             22499\n",
       "Grocery Soft Drinks Sugar Free   -2996\n",
       "Fuel                            -45507\n",
       "Confectionery                      278\n",
       "Vegetables - Fresh               19128\n",
       "2013-03                         816957"
      ]
     },
     "execution_count": 709,
     "metadata": {},
     "output_type": "execute_result"
    }
   ],
   "source": [
    "df_totals_diff = pd.DataFrame(df_totals_diff, columns=['Total'])\n",
    "df_totals_diff"
   ]
  },
  {
   "cell_type": "code",
   "execution_count": 710,
   "metadata": {},
   "outputs": [
    {
     "data": {
      "image/png": "[encoded data removed]",
      "text/plain": [
       "<Figure size 1000x500 with 1 Axes>"
      ]
     },
     "metadata": {},
     "output_type": "display_data"
    }
   ],
   "source": [
    "import seaborn as sns\n",
    "\n",
    "sns.set_style('whitegrid')\n",
    "sns.set_palette('Set2')\n",
    "sns.set_context('notebook')\n",
    "sns.set(rc={'figure.figsize':(10, 5)})\n",
    "plt.xticks(rotation=-45)\n",
    "plt.title('Diferença de Receita')\n",
    "sns.barplot(x=df_totals_diff.index, y=df_totals_diff.Total, data=df_totals_diff, palette=colors);\n"
   ]
  }
 ],
 "metadata": {
  "kernelspec": {
   "display_name": "base",
   "language": "python",
   "name": "python3"
  },
  "language_info": {
   "codemirror_mode": {
    "name": "ipython",
    "version": 3
   },
   "file_extension": ".py",
   "mimetype": "text/x-python",
   "name": "python",
   "nbconvert_exporter": "python",
   "pygments_lexer": "ipython3",
   "version": "3.9.16"
  },
  "orig_nbformat": 4
 },
 "nbformat": 4,
 "nbformat_minor": 2
}
